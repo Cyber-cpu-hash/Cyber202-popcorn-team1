{
 "cells": [
  {
   "cell_type": "code",
   "execution_count": null,
   "id": "eb32b390-3691-4a6f-bd54-2c164624852f",
   "metadata": {},
   "outputs": [],
   "source": [
    "# cyber 202\n",
    "# group 1"
   ]
  },
  {
   "cell_type": "code",
   "execution_count": 1,
   "id": "2d4ec7d5-4a47-4f49-9bd5-750337d50e4e",
   "metadata": {},
   "outputs": [
    {
     "name": "stdout",
     "output_type": "stream",
     "text": [
      "hello group 1\n"
     ]
    }
   ],
   "source": [
    "print(\"hello group 1\")"
   ]
  },
  {
   "cell_type": "code",
   "execution_count": 2,
   "id": "9e101fd3-44a4-4b47-84f7-3c19afda7a76",
   "metadata": {},
   "outputs": [
    {
     "name": "stdout",
     "output_type": "stream",
     "text": [
      "let get started\n"
     ]
    }
   ],
   "source": [
    "print(\"let get started\")"
   ]
  },
  {
   "cell_type": "code",
   "execution_count": 3,
   "id": "21248337-e9bb-496a-b6f1-6ed23d9bf267",
   "metadata": {},
   "outputs": [
    {
     "name": "stdout",
     "output_type": "stream",
     "text": [
      "litecoin_tracker\n"
     ]
    }
   ],
   "source": [
    "print(\"litecoin_tracker\")"
   ]
  },
  {
   "cell_type": "code",
   "execution_count": 2,
   "id": "891ceda7-8109-49a1-8a9d-4624e289fdec",
   "metadata": {},
   "outputs": [],
   "source": [
    "# import the requests library so we can make HTTP calls.\n",
    "import requests  \n",
    "\n",
    "# sign up at https://www.blockcypher.com to use their APIs.\n",
    "# Once you login, grab your API token from the dashboard.\n",
    "# Example token look like this: '999debf736555542b9de1c8f3504aaaa' - this example token wont work.\n",
    "\n",
    "# once we have the token from BlockCypher.\n",
    "# blockcypher_token = 'your BlockCyper token'.\n",
    "# Replace with your real token or things won't work.\n",
    "blockcypher_token = '29c22d555fb04ffe856e6c468f63d153'  \n",
    "\n",
    "def get_transaction_details(tx_hash):\n",
    "    # Get info about a Litecoin transaction by its tx hash.\n",
    "    # tx_hash: Transaction hash which identifies a transaction.\n",
    "    # This funtion returns the details of the transaction as JSON if successful,\n",
    "    # otherwise returns None if there's an error.\n",
    "    \n",
    "    # Build the API URL for fetching Litecoin transaction details.\n",
    "    url = f\"https://api.blockcypher.com/v1/ltc/main/txs/{tx_hash}\"\n",
    "    \n",
    "    # Add token if we have it, so BlockCypher knows who we are.\n",
    "    params = {'token': blockcypher_token} if blockcypher_token else {}\n",
    "    \n",
    "    # Send the GET request to the API.\n",
    "    # this is samilier to lab 2 in that we are connect to a third party website to retreve information.\n",
    "    response = requests.get(url, params=params)\n",
    "    \n",
    "    # If the request was successful and token is valid, we get status code 200 in response feeback.\n",
    "    if response.status_code == 200:\n",
    "        return response.json()  # Return the transaction data in JSON format\n",
    "    else:\n",
    "        # Print an error message and return None if it fails\n",
    "        print(f\"Error fetching transaction: {response.status_code}\")\n",
    "        return None\n",
    "\n",
    "def trace_transaction(tx_hash):\n",
    "    # Follow a transaction to see where funds came from and where they went.\n",
    "    # tx_hash (str): The transaction hash we're investigating\n",
    "    # Grab the transaction details by calling the previous function\n",
    "    transaction = get_transaction_details(tx_hash)\n",
    "    \n",
    "    # If we didn't get anything back, no point continuing\n",
    "    if not transaction:\n",
    "        return\n",
    "\n",
    "    # Print original transaction hash.\n",
    "    print(f\"Transaction ID: {tx_hash}\")\n",
    "    # When this transaction happened.\n",
    "    print(f\"Received Time: {transaction.get('received')}\")  \n",
    "\n",
    "    # Inputs section: this is where the LTC came from\n",
    "    print(\"\\nTransaction Inputs:\")\n",
    "    input_result = 0  # To track how much total input we have\n",
    "    for tx_input in transaction.get('inputs', []):  # Loop over all inputs in the transaction\n",
    "        addresses = tx_input.get('addresses', ['Unknown'])  # Address involved in the input\n",
    "        total_value = tx_input.get('output_value', 0)  # Value in satoshis (tiny LTC units)\n",
    "        total_value = total_value / 100000000  # Convert to normal Litecoin (1 LTC = 100M satoshis)\n",
    "        input_result += total_value  # Add to total inputs\n",
    "        print(f\"  From Wallet Address: {addresses[0]} | Value: {total_value} LTC\")  # Show the source wallet and value\n",
    "\n",
    "    # Outputs section: this is where the money goes\n",
    "    print(\"\\nTransaction Outputs:\")\n",
    "    out_result = 0  # To track total outputs\n",
    "    for tx_output in transaction.get('outputs', []):  # Loop over all outputs\n",
    "        addresses = tx_output.get('addresses', ['Unknown'])  # Destination address for the output\n",
    "        total_value = tx_output.get('value', 0)  # Value in satoshis\n",
    "        total_value = total_value / 100000000  # Convert to Litecoin again\n",
    "        out_result += total_value  # Add to total outputs\n",
    "        print(f\"  To Wallet Address: {addresses[0]} | Value: {total_value} LTC\")  # Show the destination wallet and value\n"
   ]
  },
  {
   "cell_type": "code",
   "execution_count": 14,
   "id": "6eac4a1a-6643-4c8e-aeea-5d54dc09ecd9",
   "metadata": {},
   "outputs": [
    {
     "name": "stdout",
     "output_type": "stream",
     "text": [
      "Transaction ID: f1cc3bed7d8494b9dbb38a7798cac2cb533d3bb6bc01d5b2780e40f9bd1b8d79\n",
      "Received Time: 2024-07-21T04:37:17.483Z\n",
      "\n",
      "Transaction Inputs:\n",
      "  From Wallet Address: LST31D2G3wHAufukPLZXEaUDWrgRoZqn7a | Value: 0.00136593 LTC\n",
      "\n",
      "Transaction Outputs:\n",
      "  To Wallet Address: M8T1B2Z97gVdvmfkQcAtYbEepune1tzGua | Value: 0.00133919 LTC\n"
     ]
    }
   ],
   "source": [
    "# reference: https://live.blockcypher.com/ltc/tx/7328a7f8c7e4da1d8893ee82ddf2d4cd06ee59d0a2fe7aaea4f6a2aa6c7fef98/\n",
    "# reference: https://www.blockcypher.com/dev/bitcoin/#tx\n",
    "\n",
    "# Example transaction hash (Replace this with the actual Litecoin TXID you want to trace)\n",
    "\n",
    "# Trace the transaction:\n",
    "# user_input_transaction_id = '7328a7f8c7e4da1d8893ee82ddf2d4cd06ee59d0a2fe7aaea4f6a2aa6c7fef98'\n",
    "# user_input_transaction_id = 'ee62f9d9fe3621f52191a108a46c99100cd4e1cc641be0923efc2bfe3e15c6e1'\n",
    "\n",
    "user_input_transaction_id = 'f1cc3bed7d8494b9dbb38a7798cac2cb533d3bb6bc01d5b2780e40f9bd1b8d79'\n",
    "trace_transaction(user_input_transaction_id)"
   ]
  },
  {
   "cell_type": "code",
   "execution_count": 2,
   "id": "81d0e96f-5b21-447a-bcd1-994768da955f",
   "metadata": {},
   "outputs": [],
   "source": [
    "# https://github.com/blockcypher/blockcypher-python\n",
    "from blockcypher import get_address_details\n",
    "wallet_address_details = get_address_details('M8T1B2Z97gVdvmfkQcAtYbEepune1tzGua', 'ltc')"
   ]
  },
  {
   "cell_type": "code",
   "execution_count": 3,
   "id": "a38552b2-2b65-4c39-a730-8a8522621fa2",
   "metadata": {},
   "outputs": [
    {
     "name": "stdout",
     "output_type": "stream",
     "text": [
      "Wallet Address: M8T1B2Z97gVdvmfkQcAtYbEepune1tzGua\n",
      "Transaction Hash: 59f212b392ef0122702616877ad6eeccedf27babd7de1f5d1ab0ddc3fc739a87\n",
      "Value: 0.00745097 LTC\n",
      "confirmed: 2024-10-24 10:41:48+00:00\n",
      "\n",
      "\n",
      "Wallet Address: M8T1B2Z97gVdvmfkQcAtYbEepune1tzGua\n",
      "Transaction Hash: 956812977b0fa4a83647c5e89ed9a6540687127d705c8842678293f8277a4c71\n",
      "Value: 0.0007 LTC\n",
      "confirmed: 2024-10-20 23:42:20+00:00\n",
      "\n",
      "\n",
      "Wallet Address: M8T1B2Z97gVdvmfkQcAtYbEepune1tzGua\n",
      "Transaction Hash: 8f75504ec3cc9f6ccec660c03bb9125660ff2ac5d43151480e44b80b68130297\n",
      "Value: 0.001 LTC\n",
      "confirmed: 2024-10-20 23:42:20+00:00\n",
      "\n",
      "\n",
      "Wallet Address: M8T1B2Z97gVdvmfkQcAtYbEepune1tzGua\n",
      "Transaction Hash: 8d044ee1c476b4370bd3c7be4336948c206da7e041440677d5a3fd0c2ca1a13a\n",
      "Value: 0.001 LTC\n",
      "confirmed: 2024-09-03 16:43:52+00:00\n",
      "\n",
      "\n",
      "Wallet Address: M8T1B2Z97gVdvmfkQcAtYbEepune1tzGua\n",
      "Transaction Hash: 0039814e6d602744de2ff6fecfd017f519ef685012fc81571ce94802abe39689\n",
      "Value: 0.80722642 LTC\n",
      "confirmed: 2024-08-21 09:53:30+00:00\n",
      "\n",
      "\n"
     ]
    }
   ],
   "source": [
    "import json\n",
    "\n",
    "wallet_address = wallet_address_details['address']\n",
    "tx_refs = wallet_address_details['txrefs']\n",
    "\n",
    "counter = 0\n",
    "limit = 5\n",
    "for tx in tx_refs:\n",
    "    print(f\"Wallet Address: {wallet_address}\")\n",
    "    print(f\"Transaction Hash: {tx['tx_hash']}\")\n",
    "    print(f\"Value: {tx['value'] / 100000000} LTC\")\n",
    "    print(f\"confirmed: {tx['confirmed']}\")\n",
    "    print(\"\\n\")\n",
    "    counter += 1\n",
    "    if counter >= limit:\n",
    "        break\n",
    "\n"
   ]
  },
  {
   "cell_type": "code",
   "execution_count": 26,
   "id": "ea2592d5-9873-4b1c-8bef-c32de5731a5a",
   "metadata": {},
   "outputs": [
    {
     "name": "stdout",
     "output_type": "stream",
     "text": [
      "Wallet Address: M8T1B2Z97gVdvmfkQcAtYbEepune1tzGua\n",
      "Transaction Hash: cb802887105089c598d2da47b55cab11816e8a23c1ccb54d518f6c83415e6a8b\n",
      "Value: 20000.0 LTC\n",
      "confirmed: 2023-01-07 06:32:48+00:00\n",
      "\n",
      "\n",
      "Wallet Address: M8T1B2Z97gVdvmfkQcAtYbEepune1tzGua\n",
      "Transaction Hash: 14aa1d2ff87111974e07e6517abc566a86488ef7c0cc6e374b60e651822250fb\n",
      "Value: 20000.0 LTC\n",
      "confirmed: 2022-01-24 14:27:17+00:00\n",
      "\n",
      "\n",
      "Wallet Address: M8T1B2Z97gVdvmfkQcAtYbEepune1tzGua\n",
      "Transaction Hash: 44a6fc43003cbb32a887c142598ccb7eecfc1a18c6c7595c36bfb77b2329e322\n",
      "Value: 20000.0 LTC\n",
      "confirmed: 2022-01-24 14:27:17+00:00\n",
      "\n",
      "\n",
      "Wallet Address: M8T1B2Z97gVdvmfkQcAtYbEepune1tzGua\n",
      "Transaction Hash: 41e6b5c6c6f775eba757529bf6be44bcd1a54b974db3b890406379ae265e6998\n",
      "Value: 20000.0 LTC\n",
      "confirmed: 2022-01-24 14:27:17+00:00\n",
      "\n",
      "\n",
      "Wallet Address: M8T1B2Z97gVdvmfkQcAtYbEepune1tzGua\n",
      "Transaction Hash: b9c76b6ac434c542cfd222593335f19783263798bcad67a1077219c2716410fa\n",
      "Value: 20000.0 LTC\n",
      "confirmed: 2022-01-24 14:25:18+00:00\n",
      "\n",
      "\n"
     ]
    }
   ],
   "source": [
    "# Sort the transaction list by the ltc 'value' d\n",
    "sorted_tx_refs = sorted(tx_refs, key=lambda x: x['value'], reverse=True)\n",
    "\n",
    "counter = 0\n",
    "limit = 5\n",
    "for tx in sorted_tx_refs:\n",
    "    print(f\"Wallet Address: {wallet_address}\")\n",
    "    print(f\"Transaction Hash: {tx['tx_hash']}\")\n",
    "    print(f\"Value: {tx['value'] / 100000000} LTC\")\n",
    "    print(f\"confirmed: {tx['confirmed']}\")\n",
    "    print(\"\\n\")\n",
    "    counter += 1\n",
    "    if counter >= limit:\n",
    "        break\n"
   ]
  },
  {
   "cell_type": "code",
   "execution_count": 4,
   "id": "9d8466f2-1920-4924-8d67-3ba5795c47a5",
   "metadata": {},
   "outputs": [
    {
     "name": "stdout",
     "output_type": "stream",
     "text": [
      "Wallet Address: M8T1B2Z97gVdvmfkQcAtYbEepune1tzGua\n",
      "Transaction Hash: cb802887105089c598d2da47b55cab11816e8a23c1ccb54d518f6c83415e6a8b\n",
      "Value: 5.46e-06 LTC\n",
      "confirmed: 2023-01-07 06:32:48+00:00\n",
      "\n",
      "\n",
      "Wallet Address: M8T1B2Z97gVdvmfkQcAtYbEepune1tzGua\n",
      "Transaction Hash: e9b330bfee3ca99efc8298cbb3a647cfa396262410b8270f37c71256d57c600c\n",
      "Value: 0.0001 LTC\n",
      "confirmed: 2023-06-09 21:11:28+00:00\n",
      "\n",
      "\n",
      "Wallet Address: M8T1B2Z97gVdvmfkQcAtYbEepune1tzGua\n",
      "Transaction Hash: 938b375505245520ba8a9c266b4fb5e7334c95ddb27d9be46976459d4628196a\n",
      "Value: 0.0001 LTC\n",
      "confirmed: 2023-06-06 23:37:58+00:00\n",
      "\n",
      "\n",
      "Wallet Address: M8T1B2Z97gVdvmfkQcAtYbEepune1tzGua\n",
      "Transaction Hash: 68e4c48f8088e68170fabe7556cb7368e8619761cc4cc1c75be36928fb692ce9\n",
      "Value: 0.0002 LTC\n",
      "confirmed: 2024-02-08 23:49:52+00:00\n",
      "\n",
      "\n",
      "Wallet Address: M8T1B2Z97gVdvmfkQcAtYbEepune1tzGua\n",
      "Transaction Hash: 6b6065edce69d513d81bd2960562062577e1678ee07a24f54d2c5bb660b8ab22\n",
      "Value: 0.0002 LTC\n",
      "confirmed: 2022-09-05 18:49:54+00:00\n",
      "\n",
      "\n"
     ]
    }
   ],
   "source": [
    "# Sort the transaction list by the ltc 'value' d\n",
    "sorted_tx_refs = sorted(tx_refs, key=lambda x: x['value'], reverse=False)\n",
    "\n",
    "counter = 0\n",
    "limit = 5\n",
    "for tx in sorted_tx_refs:\n",
    "    print(f\"Wallet Address: {wallet_address}\")\n",
    "    print(f\"Transaction Hash: {tx['tx_hash']}\")\n",
    "    print(f\"Value: {tx['value'] / 100000000} LTC\")\n",
    "    print(f\"confirmed: {tx['confirmed']}\")\n",
    "    print(\"\\n\")\n",
    "    counter += 1\n",
    "    if counter >= limit:\n",
    "        break\n"
   ]
  },
  {
   "cell_type": "code",
   "execution_count": 19,
   "id": "ebcb77ce-dcce-4db5-aa6e-8ab268709308",
   "metadata": {},
   "outputs": [
    {
     "data": {
      "text/plain": [
       "{'block_hash': '48af8376c80461612cf1fed757b4edd5516ed9e7dd73c8e7819e3b4000bc70eb',\n",
       " 'block_height': 2777828,\n",
       " 'block_index': 127,\n",
       " 'hash': '0462ea9057e6a14ec6ffc99e788ad3791be8b66562bb844f27ea200e9fb52731',\n",
       " 'addresses': ['LKxNtynH2GxLc2oLxUGL6ryckK8JMdP5BR',\n",
       "  'ltc1q2lt8tphc8px7stcsafm06vfql2sy542qx8m3ep',\n",
       "  'ltc1qe7lrzz95s9vvsq4dnut86ju92kppeztwwnx5ym',\n",
       "  'ltc1qf8augttqwxegm6j7me89p8v2rpdyq2ds6vadkx'],\n",
       " 'total': 194714357931,\n",
       " 'fees': 2940,\n",
       " 'size': 284,\n",
       " 'vsize': 284,\n",
       " 'preference': 'low',\n",
       " 'relayed_by': '66.151.242.154:10333',\n",
       " 'confirmed': datetime.datetime(2024, 10, 22, 1, 24, 23, tzinfo=tzutc()),\n",
       " 'received': datetime.datetime(2024, 10, 22, 1, 19, 36, 760000, tzinfo=tzutc()),\n",
       " 'ver': 2,\n",
       " 'double_spend': False,\n",
       " 'vin_sz': 1,\n",
       " 'vout_sz': 4,\n",
       " 'confirmations': 97,\n",
       " 'confidence': 1,\n",
       " 'inputs': [{'prev_hash': '3e732ae87231d805ff93f0695993f7a9cb4568d246e7a70e29ed38900fe1fce2',\n",
       "   'output_index': 1,\n",
       "   'script': '47304402203994f885ad3abfae88fc4b352a204d6ef91ec882fd8b56551ca82cd71ec608bc0220103cdbae28019d91e27c4ed61aec2b2872fb125d523950bb3602b638b9fa4adb0121031aed5ede477f26b5160413493d72576d7ed47073d1e1a53253c5fecedbebc7f4',\n",
       "   'output_value': 194714360871,\n",
       "   'sequence': 4294967295,\n",
       "   'addresses': ['LKxNtynH2GxLc2oLxUGL6ryckK8JMdP5BR'],\n",
       "   'script_type': 'pay-to-pubkey-hash',\n",
       "   'age': 2777822}],\n",
       " 'outputs': [{'value': 19284459,\n",
       "   'script': '0014cfbe3108b48158c802ad9f167d4b8555821c896e',\n",
       "   'spent_by': 'ebd3c26fb17a0cd59c9a2eb43e5bed40a0ada373ed19890f99411bfc6863cd51',\n",
       "   'addresses': ['ltc1qe7lrzz95s9vvsq4dnut86ju92kppeztwwnx5ym'],\n",
       "   'script_type': 'pay-to-witness-pubkey-hash'},\n",
       "  {'value': 194065256,\n",
       "   'script': '001449fbc42d6071b28dea5ede4e509d8a185a4029b0',\n",
       "   'addresses': ['ltc1qf8augttqwxegm6j7me89p8v2rpdyq2ds6vadkx'],\n",
       "   'script_type': 'pay-to-witness-pubkey-hash'},\n",
       "  {'value': 20267565,\n",
       "   'script': '001457d67586f8384de82f10ea76fd3120faa04a5540',\n",
       "   'addresses': ['ltc1q2lt8tphc8px7stcsafm06vfql2sy542qx8m3ep'],\n",
       "   'script_type': 'pay-to-witness-pubkey-hash'},\n",
       "  {'value': 194480740651,\n",
       "   'script': '76a914080608a3afa2e9f23b80e9fff56c925c671a0daa88ac',\n",
       "   'spent_by': '5d2bbcd11d3eeb76aa276c46ab06efa185d97acc4bf7e387e2a938e26b546f4f',\n",
       "   'addresses': ['LKxNtynH2GxLc2oLxUGL6ryckK8JMdP5BR'],\n",
       "   'script_type': 'pay-to-pubkey-hash'}]}"
      ]
     },
     "execution_count": 19,
     "metadata": {},
     "output_type": "execute_result"
    }
   ],
   "source": [
    "from blockcypher import get_transaction_details\n",
    "get_transaction_details('0462ea9057e6a14ec6ffc99e788ad3791be8b66562bb844f27ea200e9fb52731', 'ltc')"
   ]
  },
  {
   "cell_type": "code",
   "execution_count": null,
   "id": "39b63d4a-1ec8-4d91-b2a8-bca1b0f684d4",
   "metadata": {},
   "outputs": [],
   "source": [
    "# https://github.com/fmerizzi/GCN_detect_bitcoin_money_laundering\n",
    "# https://bitinfocharts.com/"
   ]
  }
 ],
 "metadata": {
  "kernelspec": {
   "display_name": "Python 3 (ipykernel)",
   "language": "python",
   "name": "python3"
  },
  "language_info": {
   "codemirror_mode": {
    "name": "ipython",
    "version": 3
   },
   "file_extension": ".py",
   "mimetype": "text/x-python",
   "name": "python",
   "nbconvert_exporter": "python",
   "pygments_lexer": "ipython3",
   "version": "3.12.6"
  }
 },
 "nbformat": 4,
 "nbformat_minor": 5
}
