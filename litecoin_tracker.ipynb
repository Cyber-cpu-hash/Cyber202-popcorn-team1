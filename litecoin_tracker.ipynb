{
 "cells": [
  {
   "cell_type": "code",
   "execution_count": null,
   "id": "eb32b390-3691-4a6f-bd54-2c164624852f",
   "metadata": {},
   "outputs": [],
   "source": [
    "# cyber 202\n",
    "# group 1"
   ]
  },
  {
   "cell_type": "code",
   "execution_count": 1,
   "id": "2d4ec7d5-4a47-4f49-9bd5-750337d50e4e",
   "metadata": {},
   "outputs": [
    {
     "name": "stdout",
     "output_type": "stream",
     "text": [
      "hello group 1\n"
     ]
    }
   ],
   "source": [
    "print(\"hello group 1\")"
   ]
  },
  {
   "cell_type": "code",
   "execution_count": 2,
   "id": "9e101fd3-44a4-4b47-84f7-3c19afda7a76",
   "metadata": {},
   "outputs": [
    {
     "name": "stdout",
     "output_type": "stream",
     "text": [
      "let get started\n"
     ]
    }
   ],
   "source": [
    "print(\"let get started\")"
   ]
  },
  {
   "cell_type": "code",
   "execution_count": 3,
   "id": "21248337-e9bb-496a-b6f1-6ed23d9bf267",
   "metadata": {},
   "outputs": [
    {
     "name": "stdout",
     "output_type": "stream",
     "text": [
      "litecoin_tracker\n"
     ]
    }
   ],
   "source": [
    "print(\"litecoin_tracker\")"
   ]
  },
  {
   "cell_type": "code",
   "execution_count": 12,
   "id": "891ceda7-8109-49a1-8a9d-4624e289fdec",
   "metadata": {},
   "outputs": [],
   "source": [
    "import requests\n",
    "\n",
    "# create a account with https://www.blockcypher.com \n",
    "# login and retrieve the token \n",
    "# example: token look like this: '999debf736555542b9de1c8f3504aaaa' - this once is invalid, i alrady change few digits.\n",
    "\n",
    "# blockcypher_token = 'your blockcypher_token'\n",
    "\n",
    "def get_transaction_details(tx_hash):\n",
    "    \"\"\"Fetch transaction details from the Litecoin blockchain.\"\"\"\n",
    "    url = f\"https://api.blockcypher.com/v1/ltc/main/txs/{tx_hash}\"\n",
    "    \n",
    "    params = {'token': blockcypher_token} if blockcypher_token else {}\n",
    "    \n",
    "    response = requests.get(url, params=params)\n",
    "    \n",
    "    if response.status_code == 200:\n",
    "        return response.json()\n",
    "    else:\n",
    "        print(f\"Error fetching transaction: {response.status_code}\")\n",
    "        return None\n",
    "\n",
    "def trace_transaction(tx_hash):\n",
    "    \"Trace a transaction to find details about inputs and outputs.\"\n",
    "    transaction = get_transaction_details(tx_hash)\n",
    "    if not transaction:\n",
    "        return\n",
    "\n",
    "    print(f\"Transaction ID: {tx_hash}\")\n",
    "    print(f\"Received Time: {transaction.get('received')}\")\n",
    "\n",
    "    # the funds from:\n",
    "    print(\"\\nTransaction Inputs:\")\n",
    "    for tx_input in transaction.get('inputs', []):\n",
    "        addresses = tx_input.get('addresses', ['Unknown'])\n",
    "        total_value = tx_input.get('output_value', 0)\n",
    "        total_value = total_value / 100000000\n",
    "        print(f\"  From Address: {addresses[0]} | Value: {total_value} LTC\")\n",
    "\n",
    "    # the funds to:\n",
    "    print(\"\\nTransaction Outputs:\")\n",
    "    for tx_output in transaction.get('outputs', []):\n",
    "        addresses = tx_output.get('addresses', ['Unknown'])\n",
    "        total_value = tx_output.get('value', 0)\n",
    "        total_value = total_value / 100000000\n",
    "        print(f\"  To Address: {addresses[0]} | Value: {total_value} LTC\")\n",
    "    \n",
    "    # TODO - further process each output address to see how funds is transfer\n",
    "    # TODO - track funds over time."
   ]
  },
  {
   "cell_type": "code",
   "execution_count": 13,
   "id": "6eac4a1a-6643-4c8e-aeea-5d54dc09ecd9",
   "metadata": {},
   "outputs": [
    {
     "name": "stdout",
     "output_type": "stream",
     "text": [
      "Transaction ID: 7328a7f8c7e4da1d8893ee82ddf2d4cd06ee59d0a2fe7aaea4f6a2aa6c7fef98\n",
      "Received Time: 2024-08-20T14:18:37.946Z\n",
      "\n",
      "Transaction Inputs:\n",
      "  From Address: Lhm9TLpYhnw6TCKjsSxGTsZMNyupnHzwSW | Value: 0.15802729 LTC\n",
      "\n",
      "Transaction Outputs:\n",
      "  To Address: LMamZuj57AtBhAeKfXNSGKjQcWiFTZcxn3 | Value: 0.15801769 LTC\n"
     ]
    }
   ],
   "source": [
    "# Example transaction hash (Replace this with the actual Litecoin TXID you want to trace)\n",
    "tx_hash = '7328a7f8c7e4da1d8893ee82ddf2d4cd06ee59d0a2fe7aaea4f6a2aa6c7fef98' # use for testing, this transaction has \n",
    "# reference: https://live.blockcypher.com/ltc/tx/7328a7f8c7e4da1d8893ee82ddf2d4cd06ee59d0a2fe7aaea4f6a2aa6c7fef98/\n",
    "\n",
    "# Trace the transaction\n",
    "trace_transaction(tx_hash)"
   ]
  },
  {
   "cell_type": "code",
   "execution_count": null,
   "id": "684c8005-b4e8-48ca-8441-a33020238e72",
   "metadata": {},
   "outputs": [],
   "source": []
  }
 ],
 "metadata": {
  "kernelspec": {
   "display_name": "Python 3 (ipykernel)",
   "language": "python",
   "name": "python3"
  },
  "language_info": {
   "codemirror_mode": {
    "name": "ipython",
    "version": 3
   },
   "file_extension": ".py",
   "mimetype": "text/x-python",
   "name": "python",
   "nbconvert_exporter": "python",
   "pygments_lexer": "ipython3",
   "version": "3.12.6"
  }
 },
 "nbformat": 4,
 "nbformat_minor": 5
}
