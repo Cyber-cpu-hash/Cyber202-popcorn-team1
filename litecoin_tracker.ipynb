{
 "cells": [
  {
   "cell_type": "code",
   "execution_count": null,
   "id": "eb32b390-3691-4a6f-bd54-2c164624852f",
   "metadata": {},
   "outputs": [],
   "source": [
    "# cyber 202\n",
    "# group 1"
   ]
  },
  {
   "cell_type": "code",
   "execution_count": 1,
   "id": "2d4ec7d5-4a47-4f49-9bd5-750337d50e4e",
   "metadata": {},
   "outputs": [
    {
     "name": "stdout",
     "output_type": "stream",
     "text": [
      "hello group 1\n"
     ]
    }
   ],
   "source": [
    "print(\"hello group 1\")"
   ]
  },
  {
   "cell_type": "code",
   "execution_count": 2,
   "id": "9e101fd3-44a4-4b47-84f7-3c19afda7a76",
   "metadata": {},
   "outputs": [
    {
     "name": "stdout",
     "output_type": "stream",
     "text": [
      "let get started\n"
     ]
    }
   ],
   "source": [
    "print(\"let get started\")"
   ]
  },
  {
   "cell_type": "code",
   "execution_count": 3,
   "id": "21248337-e9bb-496a-b6f1-6ed23d9bf267",
   "metadata": {},
   "outputs": [
    {
     "name": "stdout",
     "output_type": "stream",
     "text": [
      "litecoin_tracker\n"
     ]
    }
   ],
   "source": [
    "print(\"litecoin_tracker\")"
   ]
  },
  {
   "cell_type": "code",
   "execution_count": null,
   "id": "891ceda7-8109-49a1-8a9d-4624e289fdec",
   "metadata": {},
   "outputs": [],
   "source": []
  }
 ],
 "metadata": {
  "kernelspec": {
   "display_name": "Python 3 (ipykernel)",
   "language": "python",
   "name": "python3"
  },
  "language_info": {
   "codemirror_mode": {
    "name": "ipython",
    "version": 3
   },
   "file_extension": ".py",
   "mimetype": "text/x-python",
   "name": "python",
   "nbconvert_exporter": "python",
   "pygments_lexer": "ipython3",
   "version": "3.12.6"
  }
 },
 "nbformat": 4,
 "nbformat_minor": 5
}
