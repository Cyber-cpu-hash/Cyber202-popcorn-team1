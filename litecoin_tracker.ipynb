{
 "cells": [
  {
   "cell_type": "code",
   "execution_count": null,
   "id": "eb32b390-3691-4a6f-bd54-2c164624852f",
   "metadata": {},
   "outputs": [],
   "source": [
    "# cyber 202\n",
    "# group 1"
   ]
  },
  {
   "cell_type": "code",
   "execution_count": 1,
   "id": "2d4ec7d5-4a47-4f49-9bd5-750337d50e4e",
   "metadata": {},
   "outputs": [
    {
     "name": "stdout",
     "output_type": "stream",
     "text": [
      "hello group 1\n"
     ]
    }
   ],
   "source": [
    "print(\"hello group 1\")"
   ]
  },
  {
   "cell_type": "code",
   "execution_count": 2,
   "id": "9e101fd3-44a4-4b47-84f7-3c19afda7a76",
   "metadata": {},
   "outputs": [
    {
     "name": "stdout",
     "output_type": "stream",
     "text": [
      "let get started\n"
     ]
    }
   ],
   "source": [
    "print(\"let get started\")"
   ]
  },
  {
   "cell_type": "code",
   "execution_count": 3,
   "id": "21248337-e9bb-496a-b6f1-6ed23d9bf267",
   "metadata": {},
   "outputs": [
    {
     "name": "stdout",
     "output_type": "stream",
     "text": [
      "litecoin_tracker\n"
     ]
    }
   ],
   "source": [
    "print(\"litecoin_tracker\")"
   ]
  },
  {
   "cell_type": "code",
   "execution_count": 4,
   "id": "891ceda7-8109-49a1-8a9d-4624e289fdec",
   "metadata": {},
   "outputs": [],
   "source": [
    "import requests\n",
    "\n",
    "# create a account with https://www.blockcypher.com \n",
    "# login and retrieve the token \n",
    "# example: token look like this: '999debf736555542b9de1c8f3504aaaa' - this once is invalid, i alrady change few digits.\n",
    "\n",
    "# blockcypher_token = 'your blockcypher_token'\n",
    "blockcypher_token = '190debf736594d42b9de1c8f3504107a'\n",
    "\n",
    "def get_transaction_details(tx_hash):\n",
    "    \"\"\"Fetch transaction details from the Litecoin blockchain.\"\"\"\n",
    "    url = f\"https://api.blockcypher.com/v1/ltc/main/txs/{tx_hash}\"\n",
    "    \n",
    "    params = {'token': blockcypher_token} if blockcypher_token else {}\n",
    "    \n",
    "    response = requests.get(url, params=params)\n",
    "    \n",
    "    if response.status_code == 200:\n",
    "        return response.json()\n",
    "    else:\n",
    "        print(f\"Error fetching transaction: {response.status_code}\")\n",
    "        return None\n",
    "\n",
    "def trace_transaction(tx_hash):\n",
    "    \"Trace a transaction to find details about inputs and outputs.\"\n",
    "    transaction = get_transaction_details(tx_hash)\n",
    "    if not transaction:\n",
    "        return\n",
    "\n",
    "    print(f\"transaction: {transaction}\")\n",
    "    \n",
    "    print(f\"Transaction ID: {tx_hash}\")\n",
    "    print(f\"Received Time: {transaction.get('received')}\")\n",
    "\n",
    "    # the funds from:\n",
    "    print(\"\\nTransaction Inputs:\")\n",
    "    input_result = 0\n",
    "    for tx_input in transaction.get('inputs', []):\n",
    "        addresses = tx_input.get('addresses', ['Unknown'])\n",
    "        total_value = tx_input.get('output_value', 0)\n",
    "        total_value = total_value / 100000000\n",
    "        input_result += total_value\n",
    "        print(f\"  From Wallet Address: {addresses[0]} | Value: {total_value} LTC\")\n",
    "\n",
    "    \n",
    "    # the funds to:\n",
    "    print(\"\\nTransaction Outputs:\")\n",
    "    out_result = 0\n",
    "    for tx_output in transaction.get('outputs', []):\n",
    "        addresses = tx_output.get('addresses', ['Unknown'])\n",
    "        total_value = tx_output.get('value', 0)\n",
    "        total_value = total_value / 100000000\n",
    "        out_result += total_value\n",
    "        print(f\"  To Wallet Address: {addresses[0]} | Value: {total_value} LTC\")\n",
    "\n",
    "\n",
    "    # TODO - further process each output address to see how funds is transfer\n",
    "    # TODO - track funds over time."
   ]
  },
  {
   "cell_type": "code",
   "execution_count": 5,
   "id": "6eac4a1a-6643-4c8e-aeea-5d54dc09ecd9",
   "metadata": {},
   "outputs": [
    {
     "name": "stdout",
     "output_type": "stream",
     "text": [
      "transaction: {'block_hash': 'a1da1a97d0aaf1457b8df3c02bdd46f273bc254e0145cd557a4fbd8a1753b4e3', 'block_height': 2772471, 'block_index': 55, 'hash': 'd0774c468fdf6912aa71fc0e2ff909b710dd35d6c16f8a1edc31973f8ca6b06e', 'addresses': ['MT88HjHZZNysUmMVzpQBxtkWYkBJgN8YWs', 'LKxNtynH2GxLc2oLxUGL6ryckK8JMdP5BR', 'LbCNSDekuogJEsqH41FrdipieuSvNEF4pn', 'ltc1qcqjcr0eahyl8s79tj32yjv68z2tyzwz40kalhq'], 'total': 577587872573, 'fees': 2940, 'size': 289, 'vsize': 289, 'preference': 'low', 'relayed_by': '51.195.174.140:9333', 'confirmed': '2024-10-12T22:47:15Z', 'received': '2024-10-12T22:45:02.951Z', 'ver': 2, 'double_spend': False, 'vin_sz': 1, 'vout_sz': 4, 'confirmations': 5405, 'confidence': 1, 'inputs': [{'prev_hash': 'd627ea1088c5c33da2abf8ed35a36b30f482876dcf35bcb805d63bb8c28dbe84', 'output_index': 3, 'script': '483045022100cf2f989efdd5188247c93ba8fcbb11d03dbf55e106a8521a469667bab683a25d02206f8af180adb6166b1de2b5345e18561612696dc509377ef9e1c45cdee8fbcc350121031aed5ede477f26b5160413493d72576d7ed47073d1e1a53253c5fecedbebc7f4', 'output_value': 577587875513, 'sequence': 4294967295, 'addresses': ['LKxNtynH2GxLc2oLxUGL6ryckK8JMdP5BR'], 'script_type': 'pay-to-pubkey-hash', 'age': 2772464}], 'outputs': [{'value': 26373272, 'script': '76a914af355bdb6e38f1e6c67ca39ba0a3b71c1a72d66388ac', 'spent_by': 'fd57236aabec6f1bba9586501d53f69c0fd44ffa12c4bedc49c5356664a70d47', 'addresses': ['LbCNSDekuogJEsqH41FrdipieuSvNEF4pn'], 'script_type': 'pay-to-pubkey-hash'}, {'value': 1640935693, 'script': '0014c02581bf3db93e7878ab94544933471296413855', 'spent_by': '562abbde264d606575ac983ebdd2c2dcf5c4c25825683123e705bcc87eca0458', 'addresses': ['ltc1qcqjcr0eahyl8s79tj32yjv68z2tyzwz40kalhq'], 'script_type': 'pay-to-witness-pubkey-hash'}, {'value': 23251221, 'script': 'a914d2de2ce503e6827ae8f877f58a8c646588aee2a487', 'spent_by': '712ca578995833ac5b22dd9605e4615b8cd406f811474e47aeb74dd758db77cf', 'addresses': ['MT88HjHZZNysUmMVzpQBxtkWYkBJgN8YWs'], 'script_type': 'pay-to-script-hash'}, {'value': 575897312387, 'script': '76a914080608a3afa2e9f23b80e9fff56c925c671a0daa88ac', 'spent_by': '7b903654fc7a7e965997f11ed955e7f3f11ba9354b22a583b107ecff094ea6fa', 'addresses': ['LKxNtynH2GxLc2oLxUGL6ryckK8JMdP5BR'], 'script_type': 'pay-to-pubkey-hash'}]}\n",
      "Transaction ID: d0774c468fdf6912aa71fc0e2ff909b710dd35d6c16f8a1edc31973f8ca6b06e\n",
      "Received Time: 2024-10-12T22:45:02.951Z\n",
      "\n",
      "Transaction Inputs:\n",
      "  From Wallet Address: LKxNtynH2GxLc2oLxUGL6ryckK8JMdP5BR | Value: 5775.87875513 LTC\n",
      "\n",
      "Transaction Outputs:\n",
      "  To Wallet Address: LbCNSDekuogJEsqH41FrdipieuSvNEF4pn | Value: 0.26373272 LTC\n",
      "  To Wallet Address: ltc1qcqjcr0eahyl8s79tj32yjv68z2tyzwz40kalhq | Value: 16.40935693 LTC\n",
      "  To Wallet Address: MT88HjHZZNysUmMVzpQBxtkWYkBJgN8YWs | Value: 0.23251221 LTC\n",
      "  To Wallet Address: LKxNtynH2GxLc2oLxUGL6ryckK8JMdP5BR | Value: 5758.97312387 LTC\n"
     ]
    }
   ],
   "source": [
    "# Example transaction hash (Replace this with the actual Litecoin TXID you want to trace)\n",
    "# tx_hash = '7328a7f8c7e4da1d8893ee82ddf2d4cd06ee59d0a2fe7aaea4f6a2aa6c7fef98' # use for testing, this transaction has \n",
    "# tx_hash = 'ee62f9d9fe3621f52191a108a46c99100cd4e1cc641be0923efc2bfe3e15c6e1'\n",
    "# user_input_transaction_id = input(\"Input Transaction ID:\")\n",
    "# reference: https://live.blockcypher.com/ltc/tx/7328a7f8c7e4da1d8893ee82ddf2d4cd06ee59d0a2fe7aaea4f6a2aa6c7fef98/\n",
    "# Trace the transaction\n",
    "user_input_transaction_id = 'd0774c468fdf6912aa71fc0e2ff909b710dd35d6c16f8a1edc31973f8ca6b06e'\n",
    "trace_transaction(user_input_transaction_id)"
   ]
  },
  {
   "cell_type": "code",
   "execution_count": null,
   "id": "c8110ee4-f903-44cc-af1f-b2e0553e55a7",
   "metadata": {},
   "outputs": [],
   "source": [
    "user_input_transaction_id = 'd0774c468fdf6912aa71fc0e2ff909b710dd35d6c16f8a1edc31973f8ca6b06e'\n",
    "trace_transaction(user_input_transaction_id)"
   ]
  },
  {
   "cell_type": "code",
   "execution_count": null,
   "id": "81d0e96f-5b21-447a-bcd1-994768da955f",
   "metadata": {},
   "outputs": [],
   "source": []
  }
 ],
 "metadata": {
  "kernelspec": {
   "display_name": "Python 3 (ipykernel)",
   "language": "python",
   "name": "python3"
  },
  "language_info": {
   "codemirror_mode": {
    "name": "ipython",
    "version": 3
   },
   "file_extension": ".py",
   "mimetype": "text/x-python",
   "name": "python",
   "nbconvert_exporter": "python",
   "pygments_lexer": "ipython3",
   "version": "3.12.6"
  }
 },
 "nbformat": 4,
 "nbformat_minor": 5
}
